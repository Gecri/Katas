{
 "cells": [
  {
   "cell_type": "markdown",
   "metadata": {},
   "source": [
    "Ejercicio 1"
   ]
  },
  {
   "cell_type": "code",
   "execution_count": 1,
   "metadata": {},
   "outputs": [
    {
     "name": "stdout",
     "output_type": "stream",
     "text": [
      "Hay 8 planetas en total\n",
      "Pero aún no sabemos si después pluton sea parte de ellos entonces con el serian 9 planetas\n"
     ]
    }
   ],
   "source": [
    "planetas = [\"Mercurio\", \"Venus\", \"Tierra\", \"Marte\", \"Júpiter\", \"Saturno\", \"Urano\", \"Neptuno\"]\n",
    "print (f\"Hay {len(planetas)} planetas en total\")\n",
    "planetas.append(\"Pluton\")\n",
    "\n",
    "print(f\"Pero aún no sabemos si después pluton sea parte de ellos entonces con el serian {len(planetas)} planetas\")"
   ]
  },
  {
   "cell_type": "markdown",
   "metadata": {},
   "source": [
    "Ejercicio 2"
   ]
  },
  {
   "cell_type": "code",
   "execution_count": 9,
   "metadata": {},
   "outputs": [
    {
     "name": "stdout",
     "output_type": "stream",
     "text": [
      "Planetas cerca de Marte \n",
      "['Mercurio', 'Venus', 'Tierra']\n",
      "Planetas lejanos de Marte\n",
      "['Jupiter', 'Saturno', 'Urano', 'Neptuno']\n"
     ]
    }
   ],
   "source": [
    "planets = [\"Mercurio\", \"Venus\", \"Tierra\", \"Marte\", \"Jupiter\", \"Saturno\", \"Urano\", \"Neptuno\"]\n",
    "\n",
    "name = (input(\"Hola qué tal?, porfavor ingresa el nombre del planeta pon la primera letra en Mayusculas del planeta.Gracias\"))\n",
    "\n",
    "list_index = planets.index(f\"{name}\")\n",
    "\n",
    "print(f\"Planetas cerca de {name} \")\n",
    "print(planets[0:list_index])\n",
    "\n",
    "print(f\"Planetas lejanos de {name}\")\n",
    "print(planets[list_index + 1:])"
   ]
  }
 ],
 "metadata": {
  "interpreter": {
   "hash": "33541a670e8887513ebdf0f19cec6625b51694c5ef6b1c7e83282c54d5cd54e5"
  },
  "kernelspec": {
   "display_name": "Python 3.10.2 64-bit",
   "language": "python",
   "name": "python3"
  },
  "language_info": {
   "name": "python",
   "version": "3.10.2"
  },
  "orig_nbformat": 4
 },
 "nbformat": 4,
 "nbformat_minor": 2
}
