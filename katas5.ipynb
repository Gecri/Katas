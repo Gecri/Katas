{
 "cells": [
  {
   "cell_type": "markdown",
   "metadata": {},
   "source": [
    "Ejercicio 1"
   ]
  },
  {
   "cell_type": "code",
   "execution_count": 3,
   "metadata": {},
   "outputs": [],
   "source": [
    "# Crear variables para almacenar las dos distancias\n",
    "# ¡Asegúrate de quitar las comas!\n",
    "Tierra = 149597870\n",
    "Jupiter = 778547200\n"
   ]
  },
  {
   "cell_type": "code",
   "execution_count": 58,
   "metadata": {},
   "outputs": [
    {
     "name": "stdout",
     "output_type": "stream",
     "text": [
      "628949330\n",
      "La distancia entre la Tierra y Júpiter es: 628949330 Km\n",
      "La distancia entre Tierra y Júpiter es: 390577533.93 millas\n"
     ]
    }
   ],
   "source": [
    "resultado = Tierra - Jupiter\n",
    "print(abs(resultado))\n",
    "print(\"La distancia entre la Tierra y Júpiter es: \" + str((abs)(resultado)) + \" Km\")\n",
    "millas =  resultado * 0.621\n",
    "print(\"La distancia entre Tierra y Júpiter es: \" + str((abs)(millas)) + \" millas\")"
   ]
  },
  {
   "cell_type": "markdown",
   "metadata": {},
   "source": [
    "Ejercicio 2"
   ]
  },
  {
   "cell_type": "code",
   "execution_count": 117,
   "metadata": {},
   "outputs": [
    {
     "name": "stdout",
     "output_type": "stream",
     "text": [
      "3\n",
      "1.863\n"
     ]
    }
   ],
   "source": [
    "Credencial = input(\"Identifiquese\")\n",
    "distanciaa = int(input(\"Ponga la distancia del planeta al sol en Km, \" + Credencial))\n",
    "distanciab = int(input(\"Ponga la segunda distancia del planeta al sol en Km, \" + Credencial))\n",
    " \n",
    "resultKm = (distanciaa - distanciab)\n",
    "print((abs)(resultKm))\n",
    "\n",
    "resultami = (distanciaa - distanciab) * 0.621 \n",
    "print((abs)(resultami))\n",
    "\n",
    "\n"
   ]
  }
 ],
 "metadata": {
  "interpreter": {
   "hash": "33541a670e8887513ebdf0f19cec6625b51694c5ef6b1c7e83282c54d5cd54e5"
  },
  "kernelspec": {
   "display_name": "Python 3.10.2 64-bit",
   "language": "python",
   "name": "python3"
  },
  "language_info": {
   "codemirror_mode": {
    "name": "ipython",
    "version": 3
   },
   "file_extension": ".py",
   "mimetype": "text/x-python",
   "name": "python",
   "nbconvert_exporter": "python",
   "pygments_lexer": "ipython3",
   "version": "3.10.2"
  },
  "orig_nbformat": 4
 },
 "nbformat": 4,
 "nbformat_minor": 2
}
