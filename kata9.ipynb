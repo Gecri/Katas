{
 "cells": [
  {
   "cell_type": "code",
   "execution_count": 27,
   "metadata": {},
   "outputs": [
    {
     "name": "stdout",
     "output_type": "stream",
     "text": [
      "\n",
      "    Promedio del combustible: 0.0 \n",
      "    Combustible 1: 0\n",
      "    combustible 2: 0\n",
      "    combustible 3: 0\n",
      "    \n"
     ]
    }
   ],
   "source": [
    "def combustible(combustible1, combustible2, combustible3):\n",
    "    suma = (combustible1 + combustible2 + combustible3)/ 3\n",
    "    promedio = suma\n",
    "    return f\"\"\"\n",
    "    Promedio del combustible: {suma} \n",
    "    Combustible 1: {combustible1}\n",
    "    combustible 2: {combustible2}\n",
    "    combustible 3: {combustible3}\n",
    "    \"\"\"\n",
    "\n",
    "print(combustible(0, 0, 0))\n",
    "\n"
   ]
  },
  {
   "cell_type": "code",
   "execution_count": 29,
   "metadata": {},
   "outputs": [
    {
     "data": {
      "text/plain": [
       "6.333333333333333"
      ]
     },
     "execution_count": 29,
     "metadata": {},
     "output_type": "execute_result"
    }
   ],
   "source": [
    "def media(value):\n",
    "    total = sum(value)\n",
    "    numero = len(value)\n",
    "    return total / numero\n",
    "media([8, 5, 6])"
   ]
  },
  {
   "cell_type": "code",
   "execution_count": 34,
   "metadata": {},
   "outputs": [
    {
     "name": "stdout",
     "output_type": "stream",
     "text": [
      "\n",
      "    promedio: 1.6666666666666667\n",
      "    Combustible 1: 0\n",
      "    combustible 2: 5\n",
      "    combustible 3: 0\n",
      "    \n"
     ]
    }
   ],
   "source": [
    "def combustible(combustible1, combustible2, combustible3):\n",
    "    return f\"\"\"\n",
    "    promedio: {media([combustible1, combustible2, combustible3])}\n",
    "    Combustible 1: {combustible1}\n",
    "    combustible 2: {combustible2}\n",
    "    combustible 3: {combustible3}\n",
    "    \"\"\"\n",
    "\n",
    "print(combustible(0, 5, 0))"
   ]
  },
  {
   "cell_type": "markdown",
   "metadata": {},
   "source": [
    "Ejercicio 2:"
   ]
  },
  {
   "cell_type": "code",
   "execution_count": 11,
   "metadata": {},
   "outputs": [
    {
     "name": "stdout",
     "output_type": "stream",
     "text": [
      " \n",
      "   Mision de Luna\n",
      "   total de tiempo 65 Minutos\n",
      "   total de gasolina 5000%\n"
     ]
    }
   ],
   "source": [
    "def piezas(destino, prelanmiento, tiempo_de_vuelo, tanque_externo, tanque_interno):\n",
    "   return f\"\"\" \n",
    "   Mision de {destino}\n",
    "   total de tiempo {prelanmiento + tiempo_de_vuelo} Minutos\n",
    "   total de gasolina {tanque_externo + tanque_interno}%\"\"\"\n",
    "\n",
    "print(piezas(\"Luna\", 14, 51, 200000, 300000))"
   ]
  },
  {
   "cell_type": "code",
   "execution_count": 17,
   "metadata": {},
   "outputs": [
    {
     "name": "stdout",
     "output_type": "stream",
     "text": [
      " \n",
      "   Mision de Luna\n",
      "   total travel time: 116 minutos\n",
      "   total fuel left: 500000\n"
     ]
    }
   ],
   "source": [
    "def piezas(destino, * minutes, **fuel_reserveoirs):\n",
    "   return f\"\"\" \n",
    "   Mision de {destino}\n",
    "   total travel time: {sum(minutes)} minutos\n",
    "   total fuel left: {sum(fuel_reserveoirs.values())}\"\"\"\n",
    "\n",
    "print(piezas(\"Luna\", 14, 51, 51, main=300000, external=200000))"
   ]
  },
  {
   "cell_type": "code",
   "execution_count": 18,
   "metadata": {},
   "outputs": [
    {
     "name": "stdout",
     "output_type": "stream",
     "text": [
      "\n",
      "    Mission to Moon\n",
      "    Total travel time: 74 minutes\n",
      "    Total fuel left: 500000\n",
      "    main tank --> 300000 gallons left\n",
      "external tank --> 200000 gallons left\n",
      "\n"
     ]
    }
   ],
   "source": [
    "def piezas(destino, *minutes, **fuel_reserveoirs):\n",
    "    return f\"\"\"\n",
    "    Mision de {destino}\n",
    "    Total travel time: {sum(minutes)}minutos\n",
    "    Total fuel left: {sum(fuel_reserveoirs.values())}\n",
    "    \"\"\"\n",
    "    for tank_name, gallons in fuel_reserveoirs.items():\n",
    "        main_report += f\"{tank_name} tank -->{gallons} gallons left\\n\"\n",
    "    return piezas \n",
    "    \n",
    "print(mission_report(\"Moon\", 8, 11, 55, main=300000, external=200000))"
   ]
  }
 ],
 "metadata": {
  "interpreter": {
   "hash": "33541a670e8887513ebdf0f19cec6625b51694c5ef6b1c7e83282c54d5cd54e5"
  },
  "kernelspec": {
   "display_name": "Python 3.10.2 64-bit",
   "language": "python",
   "name": "python3"
  },
  "language_info": {
   "codemirror_mode": {
    "name": "ipython",
    "version": 3
   },
   "file_extension": ".py",
   "mimetype": "text/x-python",
   "name": "python",
   "nbconvert_exporter": "python",
   "pygments_lexer": "ipython3",
   "version": "3.10.2"
  },
  "orig_nbformat": 4
 },
 "nbformat": 4,
 "nbformat_minor": 2
}
