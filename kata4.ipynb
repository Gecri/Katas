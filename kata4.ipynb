{
 "cells": [
  {
   "cell_type": "code",
   "execution_count": 6,
   "metadata": {},
   "outputs": [
    {
     "name": "stdout",
     "output_type": "stream",
     "text": [
      "['Interesting', 'facts', 'about', 'the', 'Moon.', 'The', 'Moon', 'is', \"Earth's\", 'only', 'satellite.', 'There', 'are', 'several', 'interesting', 'facts', 'about', 'the', 'Moon', 'and', 'how', 'it', 'affects', 'life', 'here', 'on', 'Earth.', 'On', 'average,', 'the', 'Moon', 'moves', '4cm', 'away', 'from', 'the', 'Earth', 'every', 'year.', 'This', 'yearly', 'drift', 'is', 'not', 'significant', 'enough', 'to', 'cause', 'immediate', 'effects', 'on', 'Earth.', 'The', 'highest', 'daylight', 'temperature', 'of', 'the', 'Moon', 'is', '127', 'C.']\n"
     ]
    }
   ],
   "source": [
    "# Añade el código necesario\n",
    "text = \"\"\"Interesting facts about the Moon. The Moon is Earth's only satellite. There are several interesting facts about the Moon and how it affects life here on Earth. \n",
    "On average, the Moon moves 4cm away from the Earth every year. This yearly drift is not significant enough to cause immediate effects on Earth. The highest daylight temperature of the Moon is 127 C.\"\"\"\n",
    "\n",
    "texto = text.split()\n",
    "print(texto)"
   ]
  },
  {
   "cell_type": "code",
   "execution_count": 2,
   "metadata": {},
   "outputs": [],
   "source": [
    "# Define las palabras pista: average, temperature y distance suenan bien\n",
    "palabrasclaves = {\"average\", \"tenperature\", \"distance\"}"
   ]
  },
  {
   "cell_type": "code",
   "execution_count": 8,
   "metadata": {},
   "outputs": [
    {
     "name": "stdout",
     "output_type": "stream",
     "text": [
      "Interesting\n",
      "facts\n",
      "about\n",
      "the\n",
      "Earth's\n",
      "satellite.\n",
      "interesting\n",
      "facts\n",
      "about\n",
      "the\n",
      "it\n",
      "affects\n",
      "Earth.\n",
      "the\n",
      "the\n",
      "Earth\n",
      "drift\n",
      "not\n",
      "significant\n",
      "to\n",
      "immediate\n",
      "effects\n",
      "Earth.\n",
      "highest\n",
      "daylight\n",
      "temperature\n",
      "the\n"
     ]
    }
   ],
   "source": [
    "# Ciclo for para recorrer la cadena\n",
    "for oracion in texto:\n",
    " for palabrasclaves in palabrasclaves:\n",
    "  if palabrasclaves in oracion:\n",
    "      print(oracion)\n",
    "      break"
   ]
  },
  {
   "cell_type": "code",
   "execution_count": 10,
   "metadata": {},
   "outputs": [
    {
     "name": "stdout",
     "output_type": "stream",
     "text": [
      "Interesting\n",
      "facts\n",
      "about\n",
      "the\n",
      "Earth's\n",
      "satellite.\n",
      "interesting\n",
      "facts\n",
      "about\n",
      "the\n",
      "it\n",
      "affects\n",
      "Earth.\n",
      "the\n",
      "the\n",
      "Earth\n",
      "drift\n",
      "not\n",
      "significant\n",
      "to\n",
      "immediate\n",
      "effects\n",
      "Earth.\n",
      "highest\n",
      "daylight\n",
      "temperature\n",
      "the\n"
     ]
    }
   ],
   "source": [
    "# Ciclo para cambiar C a Celsius\n",
    "for oracion in texto:\n",
    "    for palabrasclaves in palabrasclaves:\n",
    "        if palabrasclaves in oracion:\n",
    "            print(oracion.replace(\"C\", \"Celsius\"))\n",
    "            break"
   ]
  },
  {
   "cell_type": "markdown",
   "metadata": {},
   "source": [
    "Ejercico 2"
   ]
  },
  {
   "cell_type": "code",
   "execution_count": 48,
   "metadata": {},
   "outputs": [
    {
     "name": "stdout",
     "output_type": "stream",
     "text": [
      "Tierra\n"
     ]
    }
   ],
   "source": [
    "name1 = \"Luna\"\n",
    "gravedad = 0.00162 # en Kms\n",
    "planet = \"Tierra\"\n"
   ]
  },
  {
   "cell_type": "code",
   "execution_count": 53,
   "metadata": {},
   "outputs": [
    {
     "name": "stdout",
     "output_type": "stream",
     "text": [
      "La gravedad de la Luna\n"
     ]
    }
   ],
   "source": [
    "titulo = f\"La gravedad de la {name1}\"\n",
    "\n",
    "print(titulo)"
   ]
  },
  {
   "cell_type": "code",
   "execution_count": 66,
   "metadata": {},
   "outputs": [],
   "source": [
    "# Cracion de plantilla\n",
    "hechos = f\"\"\"{\"-\"*50}\n",
    "\"Nombre del planeta: {planet}\n",
    "Gravedad en {name1}:{gravedad*10000}m/s\n",
    "\"\"\""
   ]
  },
  {
   "cell_type": "code",
   "execution_count": 67,
   "metadata": {},
   "outputs": [
    {
     "name": "stdout",
     "output_type": "stream",
     "text": [
      "La Gravedad De La Luna\n",
      "--------------------------------------------------\n",
      "\"Nombre del planeta: Tierra\n",
      "Gravedad en Luna:16.2m/s\n",
      "\n"
     ]
    }
   ],
   "source": [
    "template = f\"\"\"{titulo.title()}\n",
    "{hechos}\"\"\"\n",
    "\n",
    "print(template)"
   ]
  },
  {
   "cell_type": "code",
   "execution_count": 77,
   "metadata": {},
   "outputs": [],
   "source": [
    "name1 = 'Marte'\n",
    "gravedad = 0.00143\n",
    "planet = 'Ganimedes'"
   ]
  },
  {
   "cell_type": "code",
   "execution_count": 84,
   "metadata": {},
   "outputs": [
    {
     "name": "stdout",
     "output_type": "stream",
     "text": [
      "Datos de la gravedad de: Ganimedes\n",
      "Nombre del planeta: Marte\n",
      "Gravedad en Marte : 1.4300000000000002km/s\n"
     ]
    }
   ],
   "source": [
    "new_template = \"\"\"Datos de la gravedad de: {planet}\n",
    "Nombre del planeta: {name1}\n",
    "Gravedad en {name1} : {gravedad}m/s\"\"\"\n",
    "\n",
    "print(new_template.format(name1=name1, planet=planet, gravedad=gravedad * 1000))"
   ]
  }
 ],
 "metadata": {
  "interpreter": {
   "hash": "33541a670e8887513ebdf0f19cec6625b51694c5ef6b1c7e83282c54d5cd54e5"
  },
  "kernelspec": {
   "display_name": "Python 3.10.2 64-bit",
   "language": "python",
   "name": "python3"
  },
  "language_info": {
   "codemirror_mode": {
    "name": "ipython",
    "version": 3
   },
   "file_extension": ".py",
   "mimetype": "text/x-python",
   "name": "python",
   "nbconvert_exporter": "python",
   "pygments_lexer": "ipython3",
   "version": "3.10.2"
  },
  "orig_nbformat": 4
 },
 "nbformat": 4,
 "nbformat_minor": 2
}
